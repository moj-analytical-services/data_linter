{
 "cells": [
  {
   "cell_type": "markdown",
   "id": "2e1e2028-d24c-4161-9a1f-4239be08e5bc",
   "metadata": {},
   "source": [
    "# data_linter log explorer"
   ]
  },
  {
   "cell_type": "code",
   "execution_count": null,
   "id": "1dc6129f-d61b-4520-9947-b778449c2434",
   "metadata": {},
   "outputs": [],
   "source": [
    "# required import\n",
    "from data_linter.log_explorer_utils import summary_of_all_tables, get_failed_files, get_all_errors_for_file"
   ]
  },
  {
   "cell_type": "markdown",
   "id": "c9bef125-4aab-4ec0-b0d8-ad619bb22590",
   "metadata": {},
   "source": [
    "please specify a table (if any) and the config path"
   ]
  },
  {
   "cell_type": "code",
   "execution_count": null,
   "id": "057f5fbf-1ce4-4468-8974-418acfe02db2",
   "metadata": {},
   "outputs": [],
   "source": [
    "config_path = \"config.yaml\" # required\n",
    "table_name = \"all_types\" # optional"
   ]
  },
  {
   "cell_type": "markdown",
   "id": "2fc7ec06-c908-4a41-a545-d51630ad7129",
   "metadata": {},
   "source": [
    "### summary of all tables"
   ]
  },
  {
   "cell_type": "code",
   "execution_count": null,
   "id": "55751a39-075f-4610-adfc-a2570c55c3f7",
   "metadata": {},
   "outputs": [],
   "source": [
    "summary_of_all_tables(config_path)"
   ]
  },
  {
   "cell_type": "markdown",
   "id": "178898b2-9be5-40de-a24d-2cce7dc64477",
   "metadata": {
    "tags": []
   },
   "source": [
    "### get failed files from specified table"
   ]
  },
  {
   "cell_type": "code",
   "execution_count": null,
   "id": "f443803c-b8cb-407a-a413-b145bf4a76c0",
   "metadata": {},
   "outputs": [],
   "source": [
    "get_failed_files(config_path, table_name=table_name)"
   ]
  },
  {
   "cell_type": "markdown",
   "id": "16e3b698-19bf-46d2-8436-983ad135c895",
   "metadata": {},
   "source": [
    "### get all failed files"
   ]
  },
  {
   "cell_type": "code",
   "execution_count": null,
   "id": "c9d8f900-6f6d-47b0-a972-b1e7c02a44dc",
   "metadata": {},
   "outputs": [],
   "source": [
    "get_failed_files(config_path)"
   ]
  },
  {
   "cell_type": "markdown",
   "id": "faa81208-b7fd-4798-897b-ab916a406899",
   "metadata": {
    "tags": []
   },
   "source": [
    "### get errors for specific land file"
   ]
  },
  {
   "cell_type": "code",
   "execution_count": null,
   "id": "b5b12c93-ecf9-45f1-8246-e2719c8e3bfb",
   "metadata": {},
   "outputs": [],
   "source": [
    "land_file = \"s3://replace/me/please.csv\"\n",
    "get_all_errors_for_file(config_path, land_path)"
   ]
  }
 ],
 "metadata": {
  "kernelspec": {
   "display_name": "Python 3 (ipykernel)",
   "language": "python",
   "name": "python3"
  },
  "language_info": {
   "codemirror_mode": {
    "name": "ipython",
    "version": 3
   },
   "file_extension": ".py",
   "mimetype": "text/x-python",
   "name": "python",
   "nbconvert_exporter": "python",
   "pygments_lexer": "ipython3",
   "version": "3.8.11"
  }
 },
 "nbformat": 4,
 "nbformat_minor": 5
}
