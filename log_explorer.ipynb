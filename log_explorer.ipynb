{
 "cells": [
  {
   "cell_type": "markdown",
   "id": "ba9515d1",
   "metadata": {},
   "source": [
    "# data_linter log explorer"
   ]
  },
  {
   "cell_type": "code",
   "execution_count": null,
   "id": "b40b156c",
   "metadata": {},
   "outputs": [],
   "source": [
    "# required import\n",
    "from data_linter.log_explorer_utils import summary_of_all_tables, get_failed_files, get_all_errors_for_file"
   ]
  },
  {
   "cell_type": "markdown",
   "id": "2a31aa96",
   "metadata": {},
   "source": [
    "please specify a table (if any) and the config path"
   ]
  },
  {
   "cell_type": "code",
   "execution_count": null,
   "id": "1bfe6a3e",
   "metadata": {},
   "outputs": [],
   "source": [
    "config_path = \"config.yaml\" # required\n",
    "table_name = \"all_types\" # optional"
   ]
  },
  {
   "cell_type": "markdown",
   "id": "f5827d22",
   "metadata": {},
   "source": [
    "### summary of all tables"
   ]
  },
  {
   "cell_type": "code",
   "execution_count": null,
   "id": "e183c774",
   "metadata": {},
   "outputs": [],
   "source": [
    "summary_of_all_tables(config_path)"
   ]
  },
  {
   "cell_type": "markdown",
   "id": "12835dea",
   "metadata": {
    "tags": []
   },
   "source": [
    "### get failed files from specified table"
   ]
  },
  {
   "cell_type": "code",
   "execution_count": null,
   "id": "a2d304e1",
   "metadata": {},
   "outputs": [],
   "source": [
    "get_failed_files(config_path, table_name=table_name)"
   ]
  },
  {
   "cell_type": "markdown",
   "id": "0d36fd4f",
   "metadata": {},
   "source": [
    "### get all failed files"
   ]
  },
  {
   "cell_type": "code",
   "execution_count": null,
   "id": "5a01e2db",
   "metadata": {},
   "outputs": [],
   "source": [
    "get_failed_files(config_path)"
   ]
  },
  {
   "cell_type": "markdown",
   "id": "7cd89a28",
   "metadata": {
    "tags": []
   },
   "source": [
    "### get errors for specific land file"
   ]
  },
  {
   "cell_type": "code",
   "execution_count": null,
   "id": "22c3bd21",
   "metadata": {},
   "outputs": [],
   "source": [
    "land_file = \"s3://replace/me/please.csv\"\n",
    "get_all_errors_for_file(config_path, land_path)"
   ]
  }
 ],
 "metadata": {
  "kernelspec": {
   "display_name": "Python 3 (ipykernel)",
   "language": "python",
   "name": "python3"
  },
  "language_info": {
   "codemirror_mode": {
    "name": "ipython",
    "version": 3
   },
   "file_extension": ".py",
   "mimetype": "text/x-python",
   "name": "python",
   "nbconvert_exporter": "python",
   "pygments_lexer": "ipython3",
   "version": "3.8.11"
  }
 },
 "nbformat": 4,
 "nbformat_minor": 5
}
