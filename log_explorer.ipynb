{
 "cells": [
  {
   "cell_type": "markdown",
   "id": "12613a54",
   "metadata": {},
   "source": [
    "# data_linter log explorer"
   ]
  },
  {
   "cell_type": "code",
   "execution_count": 1,
   "id": "ac46eb58",
   "metadata": {},
   "outputs": [],
   "source": [
    "# required import\n",
    "from data_linter.log_explorer_utils import summary_of_all_tables, get_failed_files, get_all_errors_for_file"
   ]
  },
  {
   "cell_type": "markdown",
   "id": "c9ed6b46",
   "metadata": {},
   "source": [
    "please specify a table (if any) and the config path"
   ]
  },
  {
   "cell_type": "code",
   "execution_count": 2,
   "id": "402bc72f",
   "metadata": {},
   "outputs": [],
   "source": [
    "config_path = \"config.yaml\" # required\n",
    "table_name = \"all_types\" # optional"
   ]
  },
  {
   "cell_type": "markdown",
   "id": "c3eb34a1",
   "metadata": {},
   "source": [
    "### summary of all tables"
   ]
  },
  {
   "cell_type": "code",
   "execution_count": 3,
   "id": "414b6c8f",
   "metadata": {},
   "outputs": [
    {
     "data": {
      "text/markdown": [
       "### overall summary \n",
       "overall valid | fail percentage | fail count\n",
       "--- | --- | ---\n",
       "❌ | 100.0% | 2\n",
       "### per table summary \n",
       "table | percentange of files failed | number of failed files\n",
       "--- | --- | ---\n",
       "all_types | 100.0 | 2\n",
       "\n"
      ],
      "text/plain": [
       "<IPython.core.display.Markdown object>"
      ]
     },
     "execution_count": 3,
     "metadata": {},
     "output_type": "execute_result"
    }
   ],
   "source": [
    "summary_of_all_tables(config_path)"
   ]
  },
  {
   "cell_type": "markdown",
   "id": "a36b0a51",
   "metadata": {
    "tags": []
   },
   "source": [
    "### get failed files from specified table"
   ]
  },
  {
   "cell_type": "code",
   "execution_count": null,
   "id": "a5f12c0a",
   "metadata": {},
   "outputs": [],
   "source": [
    "get_failed_files(config_path, table_name=table_name)"
   ]
  },
  {
   "cell_type": "markdown",
   "id": "13647466",
   "metadata": {},
   "source": [
    "### get all failed files"
   ]
  },
  {
   "cell_type": "code",
   "execution_count": null,
   "id": "d649c058",
   "metadata": {},
   "outputs": [],
   "source": [
    "get_failed_files(config_path)"
   ]
  },
  {
   "cell_type": "markdown",
   "id": "18ac1ef0",
   "metadata": {
    "tags": []
   },
   "source": [
    "### get errors for specific land file"
   ]
  },
  {
   "cell_type": "code",
   "execution_count": null,
   "id": "afe7dbb1",
   "metadata": {},
   "outputs": [],
   "source": [
    "land_file = \"s3://replace/me/please.csv\"\n",
    "get_all_errors_for_file(config_path, land_path)"
   ]
  }
 ],
 "metadata": {
  "kernelspec": {
   "display_name": "Python 3 (ipykernel)",
   "language": "python",
   "name": "python3"
  },
  "language_info": {
   "codemirror_mode": {
    "name": "ipython",
    "version": 3
   },
   "file_extension": ".py",
   "mimetype": "text/x-python",
   "name": "python",
   "nbconvert_exporter": "python",
   "pygments_lexer": "ipython3",
   "version": "3.8.11"
  }
 },
 "nbformat": 4,
 "nbformat_minor": 5
}
